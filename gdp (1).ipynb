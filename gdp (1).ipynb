{
  "cells": [
    {
      "cell_type": "markdown",
      "source": [
        "# **Us Gdp Growth Rate Analysis**\n",
        "We are going to use NumPy, a popular library for scientific computing and Matplotlib, a popular library for plotting data also pandas for reading data from the csv file"
      ],
      "metadata": {
        "id": "rCe5BqBbU27G"
      },
      "id": "rCe5BqBbU27G"
    },
    {
      "cell_type": "code",
      "execution_count": 68,
      "id": "1b21f506",
      "metadata": {
        "id": "1b21f506"
      },
      "outputs": [],
      "source": [
        "import pandas as pd\n",
        "import numpy as np\n",
        "import matplotlib.pyplot as plt \n",
        "from sklearn.datasets import load_iris\n",
        "from sklearn.model_selection import train_test_split\n",
        "import statsmodels.tsa.stattools as stsm\n",
        "import statsmodels.tsa.stattools as sts\n",
        "from statsmodels.tsa.api import VAR\n"
      ]
    },
    {
      "cell_type": "markdown",
      "source": [
        "Required tools are imported now going to read the data using the pandas.And printing the data."
      ],
      "metadata": {
        "id": "w-bDI9zdVD5K"
      },
      "id": "w-bDI9zdVD5K"
    },
    {
      "cell_type": "markdown",
      "source": [
        "### Reading the gdp data sets\n",
        "Printing the data present in the GDP dataset"
      ],
      "metadata": {
        "id": "9f7A-tiwVFls"
      },
      "id": "9f7A-tiwVFls"
    },
    {
      "cell_type": "code",
      "execution_count": 69,
      "id": "dc1eb755",
      "metadata": {
        "id": "dc1eb755",
        "outputId": "a57d6edc-b685-4ca1-fd63-d48b67da982d",
        "colab": {
          "base_uri": "https://localhost:8080/",
          "height": 424
        }
      },
      "outputs": [
        {
          "output_type": "execute_result",
          "data": {
            "text/plain": [
              "           DATE        GDP\n",
              "0    1947-01-01    243.164\n",
              "1    1947-04-01    245.968\n",
              "2    1947-07-01    249.585\n",
              "3    1947-10-01    259.745\n",
              "4    1948-01-01    265.742\n",
              "..          ...        ...\n",
              "288  2019-01-01  21098.827\n",
              "289  2019-04-01  21340.267\n",
              "290  2019-07-01  21542.540\n",
              "291  2019-10-01  21729.124\n",
              "292  2020-01-01  21539.689\n",
              "\n",
              "[293 rows x 2 columns]"
            ],
            "text/html": [
              "\n",
              "  <div id=\"df-6e621a3e-5a92-48e9-9807-a8cde145899d\">\n",
              "    <div class=\"colab-df-container\">\n",
              "      <div>\n",
              "<style scoped>\n",
              "    .dataframe tbody tr th:only-of-type {\n",
              "        vertical-align: middle;\n",
              "    }\n",
              "\n",
              "    .dataframe tbody tr th {\n",
              "        vertical-align: top;\n",
              "    }\n",
              "\n",
              "    .dataframe thead th {\n",
              "        text-align: right;\n",
              "    }\n",
              "</style>\n",
              "<table border=\"1\" class=\"dataframe\">\n",
              "  <thead>\n",
              "    <tr style=\"text-align: right;\">\n",
              "      <th></th>\n",
              "      <th>DATE</th>\n",
              "      <th>GDP</th>\n",
              "    </tr>\n",
              "  </thead>\n",
              "  <tbody>\n",
              "    <tr>\n",
              "      <th>0</th>\n",
              "      <td>1947-01-01</td>\n",
              "      <td>243.164</td>\n",
              "    </tr>\n",
              "    <tr>\n",
              "      <th>1</th>\n",
              "      <td>1947-04-01</td>\n",
              "      <td>245.968</td>\n",
              "    </tr>\n",
              "    <tr>\n",
              "      <th>2</th>\n",
              "      <td>1947-07-01</td>\n",
              "      <td>249.585</td>\n",
              "    </tr>\n",
              "    <tr>\n",
              "      <th>3</th>\n",
              "      <td>1947-10-01</td>\n",
              "      <td>259.745</td>\n",
              "    </tr>\n",
              "    <tr>\n",
              "      <th>4</th>\n",
              "      <td>1948-01-01</td>\n",
              "      <td>265.742</td>\n",
              "    </tr>\n",
              "    <tr>\n",
              "      <th>...</th>\n",
              "      <td>...</td>\n",
              "      <td>...</td>\n",
              "    </tr>\n",
              "    <tr>\n",
              "      <th>288</th>\n",
              "      <td>2019-01-01</td>\n",
              "      <td>21098.827</td>\n",
              "    </tr>\n",
              "    <tr>\n",
              "      <th>289</th>\n",
              "      <td>2019-04-01</td>\n",
              "      <td>21340.267</td>\n",
              "    </tr>\n",
              "    <tr>\n",
              "      <th>290</th>\n",
              "      <td>2019-07-01</td>\n",
              "      <td>21542.540</td>\n",
              "    </tr>\n",
              "    <tr>\n",
              "      <th>291</th>\n",
              "      <td>2019-10-01</td>\n",
              "      <td>21729.124</td>\n",
              "    </tr>\n",
              "    <tr>\n",
              "      <th>292</th>\n",
              "      <td>2020-01-01</td>\n",
              "      <td>21539.689</td>\n",
              "    </tr>\n",
              "  </tbody>\n",
              "</table>\n",
              "<p>293 rows × 2 columns</p>\n",
              "</div>\n",
              "      <button class=\"colab-df-convert\" onclick=\"convertToInteractive('df-6e621a3e-5a92-48e9-9807-a8cde145899d')\"\n",
              "              title=\"Convert this dataframe to an interactive table.\"\n",
              "              style=\"display:none;\">\n",
              "        \n",
              "  <svg xmlns=\"http://www.w3.org/2000/svg\" height=\"24px\"viewBox=\"0 0 24 24\"\n",
              "       width=\"24px\">\n",
              "    <path d=\"M0 0h24v24H0V0z\" fill=\"none\"/>\n",
              "    <path d=\"M18.56 5.44l.94 2.06.94-2.06 2.06-.94-2.06-.94-.94-2.06-.94 2.06-2.06.94zm-11 1L8.5 8.5l.94-2.06 2.06-.94-2.06-.94L8.5 2.5l-.94 2.06-2.06.94zm10 10l.94 2.06.94-2.06 2.06-.94-2.06-.94-.94-2.06-.94 2.06-2.06.94z\"/><path d=\"M17.41 7.96l-1.37-1.37c-.4-.4-.92-.59-1.43-.59-.52 0-1.04.2-1.43.59L10.3 9.45l-7.72 7.72c-.78.78-.78 2.05 0 2.83L4 21.41c.39.39.9.59 1.41.59.51 0 1.02-.2 1.41-.59l7.78-7.78 2.81-2.81c.8-.78.8-2.07 0-2.86zM5.41 20L4 18.59l7.72-7.72 1.47 1.35L5.41 20z\"/>\n",
              "  </svg>\n",
              "      </button>\n",
              "      \n",
              "  <style>\n",
              "    .colab-df-container {\n",
              "      display:flex;\n",
              "      flex-wrap:wrap;\n",
              "      gap: 12px;\n",
              "    }\n",
              "\n",
              "    .colab-df-convert {\n",
              "      background-color: #E8F0FE;\n",
              "      border: none;\n",
              "      border-radius: 50%;\n",
              "      cursor: pointer;\n",
              "      display: none;\n",
              "      fill: #1967D2;\n",
              "      height: 32px;\n",
              "      padding: 0 0 0 0;\n",
              "      width: 32px;\n",
              "    }\n",
              "\n",
              "    .colab-df-convert:hover {\n",
              "      background-color: #E2EBFA;\n",
              "      box-shadow: 0px 1px 2px rgba(60, 64, 67, 0.3), 0px 1px 3px 1px rgba(60, 64, 67, 0.15);\n",
              "      fill: #174EA6;\n",
              "    }\n",
              "\n",
              "    [theme=dark] .colab-df-convert {\n",
              "      background-color: #3B4455;\n",
              "      fill: #D2E3FC;\n",
              "    }\n",
              "\n",
              "    [theme=dark] .colab-df-convert:hover {\n",
              "      background-color: #434B5C;\n",
              "      box-shadow: 0px 1px 3px 1px rgba(0, 0, 0, 0.15);\n",
              "      filter: drop-shadow(0px 1px 2px rgba(0, 0, 0, 0.3));\n",
              "      fill: #FFFFFF;\n",
              "    }\n",
              "  </style>\n",
              "\n",
              "      <script>\n",
              "        const buttonEl =\n",
              "          document.querySelector('#df-6e621a3e-5a92-48e9-9807-a8cde145899d button.colab-df-convert');\n",
              "        buttonEl.style.display =\n",
              "          google.colab.kernel.accessAllowed ? 'block' : 'none';\n",
              "\n",
              "        async function convertToInteractive(key) {\n",
              "          const element = document.querySelector('#df-6e621a3e-5a92-48e9-9807-a8cde145899d');\n",
              "          const dataTable =\n",
              "            await google.colab.kernel.invokeFunction('convertToInteractive',\n",
              "                                                     [key], {});\n",
              "          if (!dataTable) return;\n",
              "\n",
              "          const docLinkHtml = 'Like what you see? Visit the ' +\n",
              "            '<a target=\"_blank\" href=https://colab.research.google.com/notebooks/data_table.ipynb>data table notebook</a>'\n",
              "            + ' to learn more about interactive tables.';\n",
              "          element.innerHTML = '';\n",
              "          dataTable['output_type'] = 'display_data';\n",
              "          await google.colab.output.renderOutput(dataTable, element);\n",
              "          const docLink = document.createElement('div');\n",
              "          docLink.innerHTML = docLinkHtml;\n",
              "          element.appendChild(docLink);\n",
              "        }\n",
              "      </script>\n",
              "    </div>\n",
              "  </div>\n",
              "  "
            ]
          },
          "metadata": {},
          "execution_count": 69
        }
      ],
      "source": [
        "\n",
        "df=pd.read_csv('/content/GDP.csv')\n",
        "df"
      ]
    },
    {
      "cell_type": "markdown",
      "source": [
        "`Printing the date present in the GDP dataset`"
      ],
      "metadata": {
        "id": "6sTW0fvyVMBp"
      },
      "id": "6sTW0fvyVMBp"
    },
    {
      "cell_type": "code",
      "execution_count": 70,
      "id": "46cfe806",
      "metadata": {
        "id": "46cfe806",
        "outputId": "cbe0b922-903f-4610-ffab-9f86b50d20f9",
        "colab": {
          "base_uri": "https://localhost:8080/"
        }
      },
      "outputs": [
        {
          "output_type": "stream",
          "name": "stdout",
          "text": [
            "['1947-01-01' '1947-04-01' '1947-07-01' '1947-10-01' '1948-01-01'\n",
            " '1948-04-01' '1948-07-01' '1948-10-01' '1949-01-01' '1949-04-01'\n",
            " '1949-07-01' '1949-10-01' '1950-01-01' '1950-04-01' '1950-07-01'\n",
            " '1950-10-01' '1951-01-01' '1951-04-01' '1951-07-01' '1951-10-01'\n",
            " '1952-01-01' '1952-04-01' '1952-07-01' '1952-10-01' '1953-01-01'\n",
            " '1953-04-01' '1953-07-01' '1953-10-01' '1954-01-01' '1954-04-01'\n",
            " '1954-07-01' '1954-10-01' '1955-01-01' '1955-04-01' '1955-07-01'\n",
            " '1955-10-01' '1956-01-01' '1956-04-01' '1956-07-01' '1956-10-01'\n",
            " '1957-01-01' '1957-04-01' '1957-07-01' '1957-10-01' '1958-01-01'\n",
            " '1958-04-01' '1958-07-01' '1958-10-01' '1959-01-01' '1959-04-01'\n",
            " '1959-07-01' '1959-10-01' '1960-01-01' '1960-04-01' '1960-07-01'\n",
            " '1960-10-01' '1961-01-01' '1961-04-01' '1961-07-01' '1961-10-01'\n",
            " '1962-01-01' '1962-04-01' '1962-07-01' '1962-10-01' '1963-01-01'\n",
            " '1963-04-01' '1963-07-01' '1963-10-01' '1964-01-01' '1964-04-01'\n",
            " '1964-07-01' '1964-10-01' '1965-01-01' '1965-04-01' '1965-07-01'\n",
            " '1965-10-01' '1966-01-01' '1966-04-01' '1966-07-01' '1966-10-01'\n",
            " '1967-01-01' '1967-04-01' '1967-07-01' '1967-10-01' '1968-01-01'\n",
            " '1968-04-01' '1968-07-01' '1968-10-01' '1969-01-01' '1969-04-01'\n",
            " '1969-07-01' '1969-10-01' '1970-01-01' '1970-04-01' '1970-07-01'\n",
            " '1970-10-01' '1971-01-01' '1971-04-01' '1971-07-01' '1971-10-01'\n",
            " '1972-01-01' '1972-04-01' '1972-07-01' '1972-10-01' '1973-01-01'\n",
            " '1973-04-01' '1973-07-01' '1973-10-01' '1974-01-01' '1974-04-01'\n",
            " '1974-07-01' '1974-10-01' '1975-01-01' '1975-04-01' '1975-07-01'\n",
            " '1975-10-01' '1976-01-01' '1976-04-01' '1976-07-01' '1976-10-01'\n",
            " '1977-01-01' '1977-04-01' '1977-07-01' '1977-10-01' '1978-01-01'\n",
            " '1978-04-01' '1978-07-01' '1978-10-01' '1979-01-01' '1979-04-01'\n",
            " '1979-07-01' '1979-10-01' '1980-01-01' '1980-04-01' '1980-07-01'\n",
            " '1980-10-01' '1981-01-01' '1981-04-01' '1981-07-01' '1981-10-01'\n",
            " '1982-01-01' '1982-04-01' '1982-07-01' '1982-10-01' '1983-01-01'\n",
            " '1983-04-01' '1983-07-01' '1983-10-01' '1984-01-01' '1984-04-01'\n",
            " '1984-07-01' '1984-10-01' '1985-01-01' '1985-04-01' '1985-07-01'\n",
            " '1985-10-01' '1986-01-01' '1986-04-01' '1986-07-01' '1986-10-01'\n",
            " '1987-01-01' '1987-04-01' '1987-07-01' '1987-10-01' '1988-01-01'\n",
            " '1988-04-01' '1988-07-01' '1988-10-01' '1989-01-01' '1989-04-01'\n",
            " '1989-07-01' '1989-10-01' '1990-01-01' '1990-04-01' '1990-07-01'\n",
            " '1990-10-01' '1991-01-01' '1991-04-01' '1991-07-01' '1991-10-01'\n",
            " '1992-01-01' '1992-04-01' '1992-07-01' '1992-10-01' '1993-01-01'\n",
            " '1993-04-01' '1993-07-01' '1993-10-01' '1994-01-01' '1994-04-01'\n",
            " '1994-07-01' '1994-10-01' '1995-01-01' '1995-04-01' '1995-07-01'\n",
            " '1995-10-01' '1996-01-01' '1996-04-01' '1996-07-01' '1996-10-01'\n",
            " '1997-01-01' '1997-04-01' '1997-07-01' '1997-10-01' '1998-01-01'\n",
            " '1998-04-01' '1998-07-01' '1998-10-01' '1999-01-01' '1999-04-01'\n",
            " '1999-07-01' '1999-10-01' '2000-01-01' '2000-04-01' '2000-07-01'\n",
            " '2000-10-01' '2001-01-01' '2001-04-01' '2001-07-01' '2001-10-01'\n",
            " '2002-01-01' '2002-04-01' '2002-07-01' '2002-10-01' '2003-01-01'\n",
            " '2003-04-01' '2003-07-01' '2003-10-01' '2004-01-01' '2004-04-01'\n",
            " '2004-07-01' '2004-10-01' '2005-01-01' '2005-04-01' '2005-07-01'\n",
            " '2005-10-01' '2006-01-01' '2006-04-01' '2006-07-01' '2006-10-01'\n",
            " '2007-01-01' '2007-04-01' '2007-07-01' '2007-10-01' '2008-01-01'\n",
            " '2008-04-01' '2008-07-01' '2008-10-01' '2009-01-01' '2009-04-01'\n",
            " '2009-07-01' '2009-10-01' '2010-01-01' '2010-04-01' '2010-07-01'\n",
            " '2010-10-01' '2011-01-01' '2011-04-01' '2011-07-01' '2011-10-01'\n",
            " '2012-01-01' '2012-04-01' '2012-07-01' '2012-10-01' '2013-01-01'\n",
            " '2013-04-01' '2013-07-01' '2013-10-01' '2014-01-01' '2014-04-01'\n",
            " '2014-07-01' '2014-10-01' '2015-01-01' '2015-04-01' '2015-07-01'\n",
            " '2015-10-01' '2016-01-01' '2016-04-01' '2016-07-01' '2016-10-01'\n",
            " '2017-01-01' '2017-04-01' '2017-07-01' '2017-10-01' '2018-01-01'\n",
            " '2018-04-01' '2018-07-01' '2018-10-01' '2019-01-01' '2019-04-01'\n",
            " '2019-07-01' '2019-10-01' '2020-01-01']\n"
          ]
        }
      ],
      "source": [
        "print(np.array(df['DATE']))"
      ]
    },
    {
      "cell_type": "markdown",
      "source": [
        "Now using the head printing the head of the dataframe"
      ],
      "metadata": {
        "id": "UJlWuHpuVbHn"
      },
      "id": "UJlWuHpuVbHn"
    },
    {
      "cell_type": "code",
      "execution_count": 71,
      "id": "add68444",
      "metadata": {
        "id": "add68444",
        "outputId": "1544a636-3ce0-46a8-9aa6-1c0fcedecb1a",
        "colab": {
          "base_uri": "https://localhost:8080/"
        }
      },
      "outputs": [
        {
          "output_type": "stream",
          "name": "stdout",
          "text": [
            "         DATE      GDP\n",
            "0  1947-01-01  243.164\n",
            "1  1947-04-01  245.968\n",
            "2  1947-07-01  249.585\n",
            "3  1947-10-01  259.745\n",
            "4  1948-01-01  265.742\n"
          ]
        }
      ],
      "source": [
        "print(df.head())"
      ]
    },
    {
      "cell_type": "markdown",
      "source": [
        "The shape of the dataframe is also calculated"
      ],
      "metadata": {
        "id": "0-jmKQZbWE1D"
      },
      "id": "0-jmKQZbWE1D"
    },
    {
      "cell_type": "code",
      "execution_count": 72,
      "id": "6db36c6c",
      "metadata": {
        "id": "6db36c6c",
        "outputId": "4e820c2e-8832-4774-e46a-0217b3af8bd8",
        "colab": {
          "base_uri": "https://localhost:8080/"
        }
      },
      "outputs": [
        {
          "output_type": "stream",
          "name": "stdout",
          "text": [
            "(293, 2)\n"
          ]
        }
      ],
      "source": [
        "print(df.shape)"
      ]
    },
    {
      "cell_type": "markdown",
      "source": [
        "### Convert the \"DATE\" column to datetime type and printing it "
      ],
      "metadata": {
        "id": "9q96WOOfWNDL"
      },
      "id": "9q96WOOfWNDL"
    },
    {
      "cell_type": "code",
      "execution_count": 73,
      "id": "097406ac",
      "metadata": {
        "id": "097406ac",
        "outputId": "f0685126-501f-4a67-c2c5-eb820a9cbcc9",
        "colab": {
          "base_uri": "https://localhost:8080/"
        }
      },
      "outputs": [
        {
          "output_type": "stream",
          "name": "stdout",
          "text": [
            "    year          GDP\n",
            "0   1947    249.61550\n",
            "1   1948    274.46775\n",
            "2   1949    272.47525\n",
            "3   1950    299.82725\n",
            "4   1951    346.91325\n",
            "..   ...          ...\n",
            "69  2016  18715.04050\n",
            "70  2017  19519.42350\n",
            "71  2018  20580.22300\n",
            "72  2019  21427.68950\n",
            "73  2020  21539.68900\n",
            "\n",
            "[74 rows x 2 columns]\n"
          ]
        }
      ],
      "source": [
        "\n",
        "df['DATE'] = pd.to_datetime(df['DATE'])\n",
        "\n",
        "# Extract the year from the \"DATE\" column\n",
        "df['year'] = df['DATE'].dt.year\n",
        "\n",
        "# Group the data by year and calculate the mean GDP for each year\n",
        "gdp_data = df.groupby(['year'], as_index=False).mean()\n",
        "\n",
        "# Print the year-wise data\n",
        "print(gdp_data)"
      ]
    },
    {
      "cell_type": "markdown",
      "source": [
        "Plotting the values of GDP over the time period"
      ],
      "metadata": {
        "id": "STWoq-HFWVQ3"
      },
      "id": "STWoq-HFWVQ3"
    },
    {
      "cell_type": "code",
      "execution_count": 74,
      "id": "f2562f4e",
      "metadata": {
        "scrolled": true,
        "id": "f2562f4e",
        "outputId": "8e8d089a-fb3a-4198-91fd-32d7051a952b",
        "colab": {
          "base_uri": "https://localhost:8080/",
          "height": 295
        }
      },
      "outputs": [
        {
          "output_type": "display_data",
          "data": {
            "text/plain": [
              "<Figure size 432x288 with 1 Axes>"
            ],
            "image/png": "[encoded data removed]"
          },
          "metadata": {
            "needs_background": "light"
          }
        }
      ],
      "source": [
        "plt.plot(gdp_data['year'],gdp_data['GDP'])\n",
        "plt.xlabel('Year')\n",
        "plt.ylabel('GDP Value')\n",
        "plt.title('GDP Over Time')\n",
        "plt.show()"
      ]
    },
    {
      "cell_type": "markdown",
      "source": [
        "load the \"it\" data set"
      ],
      "metadata": {
        "id": "GzqCkjP5Wezo"
      },
      "id": "GzqCkjP5Wezo"
    },
    {
      "cell_type": "code",
      "execution_count": 75,
      "id": "47793577",
      "metadata": {
        "scrolled": true,
        "id": "47793577",
        "outputId": "2934f108-5126-4e6b-de63-528d3e53685c",
        "colab": {
          "base_uri": "https://localhost:8080/",
          "height": 765
        }
      },
      "outputs": [
        {
          "output_type": "execute_result",
          "data": {
            "text/plain": [
              "                    Country Name Country Code     Indicator Name  \\\n",
              "0                            NaN          NaN                NaN   \n",
              "1                            NaN          NaN                NaN   \n",
              "2                            NaN          NaN                NaN   \n",
              "3                          Aruba          ABW  GDP (current US$)   \n",
              "4    Africa Eastern and Southern          AFE  GDP (current US$)   \n",
              "..                           ...          ...                ...   \n",
              "264                       Kosovo          XKX  GDP (current US$)   \n",
              "265                  Yemen, Rep.          YEM  GDP (current US$)   \n",
              "266                 South Africa          ZAF  GDP (current US$)   \n",
              "267                       Zambia          ZMB  GDP (current US$)   \n",
              "268                     Zimbabwe          ZWE  GDP (current US$)   \n",
              "\n",
              "     Indicator Code          1960          1961          1962          1963  \\\n",
              "0               NaN           NaN           NaN           NaN           NaN   \n",
              "1               NaN           NaN           NaN           NaN           NaN   \n",
              "2               NaN           NaN           NaN           NaN           NaN   \n",
              "3    NY.GDP.MKTP.CD           NaN           NaN           NaN           NaN   \n",
              "4    NY.GDP.MKTP.CD  2.129081e+10  2.180870e+10  2.370727e+10  2.821034e+10   \n",
              "..              ...           ...           ...           ...           ...   \n",
              "264  NY.GDP.MKTP.CD           NaN           NaN           NaN           NaN   \n",
              "265  NY.GDP.MKTP.CD           NaN           NaN           NaN           NaN   \n",
              "266  NY.GDP.MKTP.CD  8.748597e+09  9.225996e+09  9.813996e+09  1.085420e+10   \n",
              "267  NY.GDP.MKTP.CD  7.130000e+08  6.962857e+08  6.931429e+08  7.187143e+08   \n",
              "268  NY.GDP.MKTP.CD  1.052990e+09  1.096647e+09  1.117602e+09  1.159512e+09   \n",
              "\n",
              "             1964          1965  ...          2012          2013  \\\n",
              "0             NaN           NaN  ...           NaN           NaN   \n",
              "1             NaN           NaN  ...           NaN           NaN   \n",
              "2             NaN           NaN  ...           NaN           NaN   \n",
              "3             NaN           NaN  ...  2.615084e+09  2.727933e+09   \n",
              "4    2.611906e+10  2.968249e+10  ...  9.725730e+11  9.834730e+11   \n",
              "..            ...           ...  ...           ...           ...   \n",
              "264           NaN           NaN  ...  6.163785e+09  6.735731e+09   \n",
              "265           NaN           NaN  ...  3.540132e+10  4.041523e+10   \n",
              "266  1.195600e+10  1.306899e+10  ...  4.344010e+11  4.008860e+11   \n",
              "267  8.394286e+08  1.082857e+09  ...  2.550306e+10  2.803724e+10   \n",
              "268  1.217138e+09  1.311436e+09  ...  1.711485e+10  1.909102e+10   \n",
              "\n",
              "             2014          2015          2016          2017          2018  \\\n",
              "0             NaN           NaN           NaN           NaN           NaN   \n",
              "1             NaN           NaN           NaN           NaN           NaN   \n",
              "2             NaN           NaN           NaN           NaN           NaN   \n",
              "3    2.791061e+09  2.963128e+09  2.983799e+09  3.092179e+09  3.202235e+09   \n",
              "4    1.003770e+12  9.245230e+11  8.827210e+11  1.021120e+12  1.007240e+12   \n",
              "..            ...           ...           ...           ...           ...   \n",
              "264  7.074658e+09  6.295820e+09  6.682833e+09  7.180813e+09  7.878509e+09   \n",
              "265  4.322859e+10  4.244450e+10  3.131783e+10  2.684223e+10  2.160616e+10   \n",
              "266  3.811990e+11  3.467100e+11  3.235860e+11  3.814490e+11  4.041600e+11   \n",
              "267  2.714102e+10  2.125122e+10  2.095841e+10  2.587360e+10  2.631159e+10   \n",
              "268  1.949552e+10  1.996312e+10  2.054868e+10  1.758489e+10  3.415607e+10   \n",
              "\n",
              "             2019          2020          2021  \n",
              "0             NaN           NaN           NaN  \n",
              "1             NaN           NaN           NaN  \n",
              "2             NaN           NaN           NaN  \n",
              "3    3.368970e+09  2.610039e+09  3.126019e+09  \n",
              "4    1.001020e+12  9.274840e+11  1.080710e+12  \n",
              "..            ...           ...           ...  \n",
              "264  7.899879e+09  7.716925e+09  9.412034e+09  \n",
              "265           NaN           NaN           NaN  \n",
              "266  3.885320e+11  3.376200e+11  4.190150e+11  \n",
              "267  2.330867e+10  1.811063e+10  2.214763e+10  \n",
              "268  2.183223e+10  2.150970e+10  2.837124e+10  \n",
              "\n",
              "[269 rows x 66 columns]"
            ],
            "text/html": [
              "\n",
              "  <div id=\"df-41d2d846-34da-450c-a962-4add4fa59a61\">\n",
              "    <div class=\"colab-df-container\">\n",
              "      <div>\n",
              "<style scoped>\n",
              "    .dataframe tbody tr th:only-of-type {\n",
              "        vertical-align: middle;\n",
              "    }\n",
              "\n",
              "    .dataframe tbody tr th {\n",
              "        vertical-align: top;\n",
              "    }\n",
              "\n",
              "    .dataframe thead th {\n",
              "        text-align: right;\n",
              "    }\n",
              "</style>\n",
              "<table border=\"1\" class=\"dataframe\">\n",
              "  <thead>\n",
              "    <tr style=\"text-align: right;\">\n",
              "      <th></th>\n",
              "      <th>Country Name</th>\n",
              "      <th>Country Code</th>\n",
              "      <th>Indicator Name</th>\n",
              "      <th>Indicator Code</th>\n",
              "      <th>1960</th>\n",
              "      <th>1961</th>\n",
              "      <th>1962</th>\n",
              "      <th>1963</th>\n",
              "      <th>1964</th>\n",
              "      <th>1965</th>\n",
              "      <th>...</th>\n",
              "      <th>2012</th>\n",
              "      <th>2013</th>\n",
              "      <th>2014</th>\n",
              "      <th>2015</th>\n",
              "      <th>2016</th>\n",
              "      <th>2017</th>\n",
              "      <th>2018</th>\n",
              "      <th>2019</th>\n",
              "      <th>2020</th>\n",
              "      <th>2021</th>\n",
              "    </tr>\n",
              "  </thead>\n",
              "  <tbody>\n",
              "    <tr>\n",
              "      <th>0</th>\n",
              "      <td>NaN</td>\n",
              "      <td>NaN</td>\n",
              "      <td>NaN</td>\n",
              "      <td>NaN</td>\n",
              "      <td>NaN</td>\n",
              "      <td>NaN</td>\n",
              "      <td>NaN</td>\n",
              "      <td>NaN</td>\n",
              "      <td>NaN</td>\n",
              "      <td>NaN</td>\n",
              "      <td>...</td>\n",
              "      <td>NaN</td>\n",
              "      <td>NaN</td>\n",
              "      <td>NaN</td>\n",
              "      <td>NaN</td>\n",
              "      <td>NaN</td>\n",
              "      <td>NaN</td>\n",
              "      <td>NaN</td>\n",
              "      <td>NaN</td>\n",
              "      <td>NaN</td>\n",
              "      <td>NaN</td>\n",
              "    </tr>\n",
              "    <tr>\n",
              "      <th>1</th>\n",
              "      <td>NaN</td>\n",
              "      <td>NaN</td>\n",
              "      <td>NaN</td>\n",
              "      <td>NaN</td>\n",
              "      <td>NaN</td>\n",
              "      <td>NaN</td>\n",
              "      <td>NaN</td>\n",
              "      <td>NaN</td>\n",
              "      <td>NaN</td>\n",
              "      <td>NaN</td>\n",
              "      <td>...</td>\n",
              "      <td>NaN</td>\n",
              "      <td>NaN</td>\n",
              "      <td>NaN</td>\n",
              "      <td>NaN</td>\n",
              "      <td>NaN</td>\n",
              "      <td>NaN</td>\n",
              "      <td>NaN</td>\n",
              "      <td>NaN</td>\n",
              "      <td>NaN</td>\n",
              "      <td>NaN</td>\n",
              "    </tr>\n",
              "    <tr>\n",
              "      <th>2</th>\n",
              "      <td>NaN</td>\n",
              "      <td>NaN</td>\n",
              "      <td>NaN</td>\n",
              "      <td>NaN</td>\n",
              "      <td>NaN</td>\n",
              "      <td>NaN</td>\n",
              "      <td>NaN</td>\n",
              "      <td>NaN</td>\n",
              "      <td>NaN</td>\n",
              "      <td>NaN</td>\n",
              "      <td>...</td>\n",
              "      <td>NaN</td>\n",
              "      <td>NaN</td>\n",
              "      <td>NaN</td>\n",
              "      <td>NaN</td>\n",
              "      <td>NaN</td>\n",
              "      <td>NaN</td>\n",
              "      <td>NaN</td>\n",
              "      <td>NaN</td>\n",
              "      <td>NaN</td>\n",
              "      <td>NaN</td>\n",
              "    </tr>\n",
              "    <tr>\n",
              "      <th>3</th>\n",
              "      <td>Aruba</td>\n",
              "      <td>ABW</td>\n",
              "      <td>GDP (current US$)</td>\n",
              "      <td>NY.GDP.MKTP.CD</td>\n",
              "      <td>NaN</td>\n",
              "      <td>NaN</td>\n",
              "      <td>NaN</td>\n",
              "      <td>NaN</td>\n",
              "      <td>NaN</td>\n",
              "      <td>NaN</td>\n",
              "      <td>...</td>\n",
              "      <td>2.615084e+09</td>\n",
              "      <td>2.727933e+09</td>\n",
              "      <td>2.791061e+09</td>\n",
              "      <td>2.963128e+09</td>\n",
              "      <td>2.983799e+09</td>\n",
              "      <td>3.092179e+09</td>\n",
              "      <td>3.202235e+09</td>\n",
              "      <td>3.368970e+09</td>\n",
              "      <td>2.610039e+09</td>\n",
              "      <td>3.126019e+09</td>\n",
              "    </tr>\n",
              "    <tr>\n",
              "      <th>4</th>\n",
              "      <td>Africa Eastern and Southern</td>\n",
              "      <td>AFE</td>\n",
              "      <td>GDP (current US$)</td>\n",
              "      <td>NY.GDP.MKTP.CD</td>\n",
              "      <td>2.129081e+10</td>\n",
              "      <td>2.180870e+10</td>\n",
              "      <td>2.370727e+10</td>\n",
              "      <td>2.821034e+10</td>\n",
              "      <td>2.611906e+10</td>\n",
              "      <td>2.968249e+10</td>\n",
              "      <td>...</td>\n",
              "      <td>9.725730e+11</td>\n",
              "      <td>9.834730e+11</td>\n",
              "      <td>1.003770e+12</td>\n",
              "      <td>9.245230e+11</td>\n",
              "      <td>8.827210e+11</td>\n",
              "      <td>1.021120e+12</td>\n",
              "      <td>1.007240e+12</td>\n",
              "      <td>1.001020e+12</td>\n",
              "      <td>9.274840e+11</td>\n",
              "      <td>1.080710e+12</td>\n",
              "    </tr>\n",
              "    <tr>\n",
              "      <th>...</th>\n",
              "      <td>...</td>\n",
              "      <td>...</td>\n",
              "      <td>...</td>\n",
              "      <td>...</td>\n",
              "      <td>...</td>\n",
              "      <td>...</td>\n",
              "      <td>...</td>\n",
              "      <td>...</td>\n",
              "      <td>...</td>\n",
              "      <td>...</td>\n",
              "      <td>...</td>\n",
              "      <td>...</td>\n",
              "      <td>...</td>\n",
              "      <td>...</td>\n",
              "      <td>...</td>\n",
              "      <td>...</td>\n",
              "      <td>...</td>\n",
              "      <td>...</td>\n",
              "      <td>...</td>\n",
              "      <td>...</td>\n",
              "      <td>...</td>\n",
              "    </tr>\n",
              "    <tr>\n",
              "      <th>264</th>\n",
              "      <td>Kosovo</td>\n",
              "      <td>XKX</td>\n",
              "      <td>GDP (current US$)</td>\n",
              "      <td>NY.GDP.MKTP.CD</td>\n",
              "      <td>NaN</td>\n",
              "      <td>NaN</td>\n",
              "      <td>NaN</td>\n",
              "      <td>NaN</td>\n",
              "      <td>NaN</td>\n",
              "      <td>NaN</td>\n",
              "      <td>...</td>\n",
              "      <td>6.163785e+09</td>\n",
              "      <td>6.735731e+09</td>\n",
              "      <td>7.074658e+09</td>\n",
              "      <td>6.295820e+09</td>\n",
              "      <td>6.682833e+09</td>\n",
              "      <td>7.180813e+09</td>\n",
              "      <td>7.878509e+09</td>\n",
              "      <td>7.899879e+09</td>\n",
              "      <td>7.716925e+09</td>\n",
              "      <td>9.412034e+09</td>\n",
              "    </tr>\n",
              "    <tr>\n",
              "      <th>265</th>\n",
              "      <td>Yemen, Rep.</td>\n",
              "      <td>YEM</td>\n",
              "      <td>GDP (current US$)</td>\n",
              "      <td>NY.GDP.MKTP.CD</td>\n",
              "      <td>NaN</td>\n",
              "      <td>NaN</td>\n",
              "      <td>NaN</td>\n",
              "      <td>NaN</td>\n",
              "      <td>NaN</td>\n",
              "      <td>NaN</td>\n",
              "      <td>...</td>\n",
              "      <td>3.540132e+10</td>\n",
              "      <td>4.041523e+10</td>\n",
              "      <td>4.322859e+10</td>\n",
              "      <td>4.244450e+10</td>\n",
              "      <td>3.131783e+10</td>\n",
              "      <td>2.684223e+10</td>\n",
              "      <td>2.160616e+10</td>\n",
              "      <td>NaN</td>\n",
              "      <td>NaN</td>\n",
              "      <td>NaN</td>\n",
              "    </tr>\n",
              "    <tr>\n",
              "      <th>266</th>\n",
              "      <td>South Africa</td>\n",
              "      <td>ZAF</td>\n",
              "      <td>GDP (current US$)</td>\n",
              "      <td>NY.GDP.MKTP.CD</td>\n",
              "      <td>8.748597e+09</td>\n",
              "      <td>9.225996e+09</td>\n",
              "      <td>9.813996e+09</td>\n",
              "      <td>1.085420e+10</td>\n",
              "      <td>1.195600e+10</td>\n",
              "      <td>1.306899e+10</td>\n",
              "      <td>...</td>\n",
              "      <td>4.344010e+11</td>\n",
              "      <td>4.008860e+11</td>\n",
              "      <td>3.811990e+11</td>\n",
              "      <td>3.467100e+11</td>\n",
              "      <td>3.235860e+11</td>\n",
              "      <td>3.814490e+11</td>\n",
              "      <td>4.041600e+11</td>\n",
              "      <td>3.885320e+11</td>\n",
              "      <td>3.376200e+11</td>\n",
              "      <td>4.190150e+11</td>\n",
              "    </tr>\n",
              "    <tr>\n",
              "      <th>267</th>\n",
              "      <td>Zambia</td>\n",
              "      <td>ZMB</td>\n",
              "      <td>GDP (current US$)</td>\n",
              "      <td>NY.GDP.MKTP.CD</td>\n",
              "      <td>7.130000e+08</td>\n",
              "      <td>6.962857e+08</td>\n",
              "      <td>6.931429e+08</td>\n",
              "      <td>7.187143e+08</td>\n",
              "      <td>8.394286e+08</td>\n",
              "      <td>1.082857e+09</td>\n",
              "      <td>...</td>\n",
              "      <td>2.550306e+10</td>\n",
              "      <td>2.803724e+10</td>\n",
              "      <td>2.714102e+10</td>\n",
              "      <td>2.125122e+10</td>\n",
              "      <td>2.095841e+10</td>\n",
              "      <td>2.587360e+10</td>\n",
              "      <td>2.631159e+10</td>\n",
              "      <td>2.330867e+10</td>\n",
              "      <td>1.811063e+10</td>\n",
              "      <td>2.214763e+10</td>\n",
              "    </tr>\n",
              "    <tr>\n",
              "      <th>268</th>\n",
              "      <td>Zimbabwe</td>\n",
              "      <td>ZWE</td>\n",
              "      <td>GDP (current US$)</td>\n",
              "      <td>NY.GDP.MKTP.CD</td>\n",
              "      <td>1.052990e+09</td>\n",
              "      <td>1.096647e+09</td>\n",
              "      <td>1.117602e+09</td>\n",
              "      <td>1.159512e+09</td>\n",
              "      <td>1.217138e+09</td>\n",
              "      <td>1.311436e+09</td>\n",
              "      <td>...</td>\n",
              "      <td>1.711485e+10</td>\n",
              "      <td>1.909102e+10</td>\n",
              "      <td>1.949552e+10</td>\n",
              "      <td>1.996312e+10</td>\n",
              "      <td>2.054868e+10</td>\n",
              "      <td>1.758489e+10</td>\n",
              "      <td>3.415607e+10</td>\n",
              "      <td>2.183223e+10</td>\n",
              "      <td>2.150970e+10</td>\n",
              "      <td>2.837124e+10</td>\n",
              "    </tr>\n",
              "  </tbody>\n",
              "</table>\n",
              "<p>269 rows × 66 columns</p>\n",
              "</div>\n",
              "      <button class=\"colab-df-convert\" onclick=\"convertToInteractive('df-41d2d846-34da-450c-a962-4add4fa59a61')\"\n",
              "              title=\"Convert this dataframe to an interactive table.\"\n",
              "              style=\"display:none;\">\n",
              "        \n",
              "  <svg xmlns=\"http://www.w3.org/2000/svg\" height=\"24px\"viewBox=\"0 0 24 24\"\n",
              "       width=\"24px\">\n",
              "    <path d=\"M0 0h24v24H0V0z\" fill=\"none\"/>\n",
              "    <path d=\"M18.56 5.44l.94 2.06.94-2.06 2.06-.94-2.06-.94-.94-2.06-.94 2.06-2.06.94zm-11 1L8.5 8.5l.94-2.06 2.06-.94-2.06-.94L8.5 2.5l-.94 2.06-2.06.94zm10 10l.94 2.06.94-2.06 2.06-.94-2.06-.94-.94-2.06-.94 2.06-2.06.94z\"/><path d=\"M17.41 7.96l-1.37-1.37c-.4-.4-.92-.59-1.43-.59-.52 0-1.04.2-1.43.59L10.3 9.45l-7.72 7.72c-.78.78-.78 2.05 0 2.83L4 21.41c.39.39.9.59 1.41.59.51 0 1.02-.2 1.41-.59l7.78-7.78 2.81-2.81c.8-.78.8-2.07 0-2.86zM5.41 20L4 18.59l7.72-7.72 1.47 1.35L5.41 20z\"/>\n",
              "  </svg>\n",
              "      </button>\n",
              "      \n",
              "  <style>\n",
              "    .colab-df-container {\n",
              "      display:flex;\n",
              "      flex-wrap:wrap;\n",
              "      gap: 12px;\n",
              "    }\n",
              "\n",
              "    .colab-df-convert {\n",
              "      background-color: #E8F0FE;\n",
              "      border: none;\n",
              "      border-radius: 50%;\n",
              "      cursor: pointer;\n",
              "      display: none;\n",
              "      fill: #1967D2;\n",
              "      height: 32px;\n",
              "      padding: 0 0 0 0;\n",
              "      width: 32px;\n",
              "    }\n",
              "\n",
              "    .colab-df-convert:hover {\n",
              "      background-color: #E2EBFA;\n",
              "      box-shadow: 0px 1px 2px rgba(60, 64, 67, 0.3), 0px 1px 3px 1px rgba(60, 64, 67, 0.15);\n",
              "      fill: #174EA6;\n",
              "    }\n",
              "\n",
              "    [theme=dark] .colab-df-convert {\n",
              "      background-color: #3B4455;\n",
              "      fill: #D2E3FC;\n",
              "    }\n",
              "\n",
              "    [theme=dark] .colab-df-convert:hover {\n",
              "      background-color: #434B5C;\n",
              "      box-shadow: 0px 1px 3px 1px rgba(0, 0, 0, 0.15);\n",
              "      filter: drop-shadow(0px 1px 2px rgba(0, 0, 0, 0.3));\n",
              "      fill: #FFFFFF;\n",
              "    }\n",
              "  </style>\n",
              "\n",
              "      <script>\n",
              "        const buttonEl =\n",
              "          document.querySelector('#df-41d2d846-34da-450c-a962-4add4fa59a61 button.colab-df-convert');\n",
              "        buttonEl.style.display =\n",
              "          google.colab.kernel.accessAllowed ? 'block' : 'none';\n",
              "\n",
              "        async function convertToInteractive(key) {\n",
              "          const element = document.querySelector('#df-41d2d846-34da-450c-a962-4add4fa59a61');\n",
              "          const dataTable =\n",
              "            await google.colab.kernel.invokeFunction('convertToInteractive',\n",
              "                                                     [key], {});\n",
              "          if (!dataTable) return;\n",
              "\n",
              "          const docLinkHtml = 'Like what you see? Visit the ' +\n",
              "            '<a target=\"_blank\" href=https://colab.research.google.com/notebooks/data_table.ipynb>data table notebook</a>'\n",
              "            + ' to learn more about interactive tables.';\n",
              "          element.innerHTML = '';\n",
              "          dataTable['output_type'] = 'display_data';\n",
              "          await google.colab.output.renderOutput(dataTable, element);\n",
              "          const docLink = document.createElement('div');\n",
              "          docLink.innerHTML = docLinkHtml;\n",
              "          element.appendChild(docLink);\n",
              "        }\n",
              "      </script>\n",
              "    </div>\n",
              "  </div>\n",
              "  "
            ]
          },
          "metadata": {},
          "execution_count": 75
        }
      ],
      "source": [
        "\n",
        "it=pd.read_csv(\"/content/it.csv\")\n",
        "it\n"
      ]
    },
    {
      "cell_type": "markdown",
      "source": [
        "Using the head to print the data pesent in the it dataset"
      ],
      "metadata": {
        "id": "t0iMTSOnWh8T"
      },
      "id": "t0iMTSOnWh8T"
    },
    {
      "cell_type": "code",
      "execution_count": 76,
      "id": "9fc016cf",
      "metadata": {
        "id": "9fc016cf",
        "outputId": "798e2ef1-fc70-4cc7-883c-53696364f372",
        "colab": {
          "base_uri": "https://localhost:8080/"
        }
      },
      "outputs": [
        {
          "output_type": "stream",
          "name": "stdout",
          "text": [
            "                  Country Name Country Code     Indicator Name  \\\n",
            "0                          NaN          NaN                NaN   \n",
            "1                          NaN          NaN                NaN   \n",
            "2                          NaN          NaN                NaN   \n",
            "3                        Aruba          ABW  GDP (current US$)   \n",
            "4  Africa Eastern and Southern          AFE  GDP (current US$)   \n",
            "\n",
            "   Indicator Code          1960          1961          1962          1963  \\\n",
            "0             NaN           NaN           NaN           NaN           NaN   \n",
            "1             NaN           NaN           NaN           NaN           NaN   \n",
            "2             NaN           NaN           NaN           NaN           NaN   \n",
            "3  NY.GDP.MKTP.CD           NaN           NaN           NaN           NaN   \n",
            "4  NY.GDP.MKTP.CD  2.129081e+10  2.180870e+10  2.370727e+10  2.821034e+10   \n",
            "\n",
            "           1964          1965  ...          2012          2013          2014  \\\n",
            "0           NaN           NaN  ...           NaN           NaN           NaN   \n",
            "1           NaN           NaN  ...           NaN           NaN           NaN   \n",
            "2           NaN           NaN  ...           NaN           NaN           NaN   \n",
            "3           NaN           NaN  ...  2.615084e+09  2.727933e+09  2.791061e+09   \n",
            "4  2.611906e+10  2.968249e+10  ...  9.725730e+11  9.834730e+11  1.003770e+12   \n",
            "\n",
            "           2015          2016          2017          2018          2019  \\\n",
            "0           NaN           NaN           NaN           NaN           NaN   \n",
            "1           NaN           NaN           NaN           NaN           NaN   \n",
            "2           NaN           NaN           NaN           NaN           NaN   \n",
            "3  2.963128e+09  2.983799e+09  3.092179e+09  3.202235e+09  3.368970e+09   \n",
            "4  9.245230e+11  8.827210e+11  1.021120e+12  1.007240e+12  1.001020e+12   \n",
            "\n",
            "           2020          2021  \n",
            "0           NaN           NaN  \n",
            "1           NaN           NaN  \n",
            "2           NaN           NaN  \n",
            "3  2.610039e+09  3.126019e+09  \n",
            "4  9.274840e+11  1.080710e+12  \n",
            "\n",
            "[5 rows x 66 columns]\n"
          ]
        }
      ],
      "source": [
        "print(it.head())"
      ]
    },
    {
      "cell_type": "markdown",
      "source": [
        "Using the shape to know the shape of the dataset"
      ],
      "metadata": {
        "id": "S798G2okWoIH"
      },
      "id": "S798G2okWoIH"
    },
    {
      "cell_type": "code",
      "execution_count": 77,
      "id": "7865c4cd",
      "metadata": {
        "scrolled": true,
        "id": "7865c4cd",
        "outputId": "803744c6-fe2b-4a26-c773-75e799f3baa9",
        "colab": {
          "base_uri": "https://localhost:8080/"
        }
      },
      "outputs": [
        {
          "output_type": "stream",
          "name": "stdout",
          "text": [
            "(269, 66)\n"
          ]
        }
      ],
      "source": [
        "print(it.shape)"
      ]
    },
    {
      "cell_type": "markdown",
      "source": [
        "GDP has 74 rows x 2 columns and It has 269 rows *66 columns as the GDP and It data set are not in same order converting them into same order for united states"
      ],
      "metadata": {
        "id": "amMLdtHQWvEE"
      },
      "id": "amMLdtHQWvEE"
    },
    {
      "cell_type": "code",
      "execution_count": 78,
      "id": "fbb45e57",
      "metadata": {
        "id": "fbb45e57"
      },
      "outputs": [],
      "source": [
        "# Create a new DataFrame with only the rows for 'United States'\n",
        "it_us = it[it['Country Name'] == 'United States']\n",
        "\n",
        "# Select the columns for years and the Indicator Name\n",
        "it_us = it_us.loc[:, it.columns.str.contains('^[1-2]') | it.columns.str.contains('Indicator Name')]\n",
        "\n",
        "# Set the 'Indicator Name' as the index\n",
        "it_us.set_index('Indicator Name', inplace=True)\n",
        "\n",
        "# Transpose the DataFrame so that the columns are the years and the rows are the Indicator Name\n",
        "it_us = it_us.T\n",
        "\n",
        "# Rename the columns\n",
        "it_us.rename(columns={'High-technology exports (current US$)': 'IT_Exports'}, inplace=True)\n",
        "\n",
        "# Reset the index to make the years a column again\n",
        "it_us.reset_index(inplace=True)\n",
        "\n",
        "# Rename the 'index' column to 'Year'\n",
        "it_us.rename(columns={'index': 'Year'}, inplace=True)\n",
        "\n",
        "# Convert the 'Year' column to int\n",
        "it_us['Year'] = it_us['Year'].astype(int)\n"
      ]
    },
    {
      "cell_type": "markdown",
      "source": [
        "Now printing the transposed data"
      ],
      "metadata": {
        "id": "7hVIFzFOXhhB"
      },
      "id": "7hVIFzFOXhhB"
    },
    {
      "cell_type": "code",
      "execution_count": 79,
      "id": "4df709f2",
      "metadata": {
        "id": "4df709f2",
        "outputId": "fdb747bb-4934-48e6-8778-6ba35db83e59",
        "colab": {
          "base_uri": "https://localhost:8080/"
        }
      },
      "outputs": [
        {
          "output_type": "stream",
          "name": "stdout",
          "text": [
            "Indicator Name  Year  GDP (current US$)\n",
            "0               1960       5.433000e+11\n",
            "1               1961       5.633000e+11\n",
            "2               1962       6.051000e+11\n",
            "3               1963       6.386000e+11\n",
            "4               1964       6.858000e+11\n",
            "..               ...                ...\n",
            "57              2017       1.947730e+13\n",
            "58              2018       2.053310e+13\n",
            "59              2019       2.138100e+13\n",
            "60              2020       2.106050e+13\n",
            "61              2021       2.331510e+13\n",
            "\n",
            "[62 rows x 2 columns]\n"
          ]
        }
      ],
      "source": [
        "print(it_us)"
      ]
    },
    {
      "cell_type": "markdown",
      "source": [
        "we are going to train the dataset now. I am going to take features with difference between data 20."
      ],
      "metadata": {
        "id": "qZtOm9yRXr5w"
      },
      "id": "qZtOm9yRXr5w"
    },
    {
      "cell_type": "code",
      "execution_count": 80,
      "id": "63a5b2fa",
      "metadata": {
        "id": "63a5b2fa",
        "outputId": "84ebcf95-fcb0-473c-d235-e1118b90cc26",
        "colab": {
          "base_uri": "https://localhost:8080/"
        }
      },
      "outputs": [
        {
          "output_type": "stream",
          "name": "stdout",
          "text": [
            "['1947-01-01T00:00:00.000000000' '1952-01-01T00:00:00.000000000'\n",
            " '1957-01-01T00:00:00.000000000' '1962-01-01T00:00:00.000000000'\n",
            " '1967-01-01T00:00:00.000000000' '1972-01-01T00:00:00.000000000'\n",
            " '1977-01-01T00:00:00.000000000' '1982-01-01T00:00:00.000000000'\n",
            " '1987-01-01T00:00:00.000000000' '1992-01-01T00:00:00.000000000'\n",
            " '1997-01-01T00:00:00.000000000' '2002-01-01T00:00:00.000000000'\n",
            " '2007-01-01T00:00:00.000000000' '2012-01-01T00:00:00.000000000'\n",
            " '2017-01-01T00:00:00.000000000']\n",
            "[  243.164   359.82    469.779   594.013   844.17   1230.609  1988.648\n",
            "  3274.302  4722.156  6363.102  8362.655 10788.952 14208.569 16019.758\n",
            " 19190.431]\n"
          ]
        }
      ],
      "source": [
        "x_train=np.array(df['DATE'][0::20])\n",
        "y_train=np.array(df['GDP'][0::20])\n",
        "print(x_train)\n",
        "print(y_train)"
      ]
    },
    {
      "cell_type": "markdown",
      "source": [
        "By plotting the values of features we can clearly observe that the GDP value keep on increasing as years moves on."
      ],
      "metadata": {
        "id": "lZZ1fNt7X0GI"
      },
      "id": "lZZ1fNt7X0GI"
    },
    {
      "cell_type": "code",
      "execution_count": 81,
      "id": "e75e02d1",
      "metadata": {
        "id": "e75e02d1",
        "outputId": "14cb0d36-25fc-4c29-bbc8-134dd6d9556d",
        "colab": {
          "base_uri": "https://localhost:8080/",
          "height": 612
        }
      },
      "outputs": [
        {
          "output_type": "display_data",
          "data": {
            "text/plain": [
              "<Figure size 1656x1080 with 1 Axes>"
            ],
            "image/png": "[encoded data removed]"
          },
          "metadata": {
            "needs_background": "light"
          }
        }
      ],
      "source": [
        "plt.figure(figsize=(23,15))\n",
        "plt.plot(x_train,y_train)\n",
        "plt.show()"
      ]
    },
    {
      "cell_type": "code",
      "execution_count": 82,
      "id": "756a1feb",
      "metadata": {
        "id": "756a1feb",
        "outputId": "a1dccac7-b4ac-46ba-ad64-5082b8fd8641",
        "colab": {
          "base_uri": "https://localhost:8080/",
          "height": 618
        }
      },
      "outputs": [
        {
          "output_type": "display_data",
          "data": {
            "text/plain": [
              "<Figure size 1656x1080 with 1 Axes>"
            ],
            "image/png": "[encoded data removed]"
          },
          "metadata": {
            "needs_background": "light"
          }
        }
      ],
      "source": [
        "import seaborn as sns\n",
        "plt.figure(figsize=(23,15))\n",
        "sns.lineplot(data=df['GDP'],label='GDP of USA over time')\n",
        "plt.xlabel(\"Time in years\")\n",
        "plt.ylabel(\"change in GDP rate\")\n",
        "plt.show()"
      ]
    },
    {
      "cell_type": "markdown",
      "source": [
        "By using the graphs we can clearly say that the population has more impact in rising the GDP of the us"
      ],
      "metadata": {
        "id": "3VGsGz82YNSo"
      },
      "id": "3VGsGz82YNSo"
    },
    {
      "cell_type": "code",
      "execution_count": 83,
      "id": "d4b4f90c",
      "metadata": {
        "id": "d4b4f90c",
        "outputId": "b98da2eb-ee21-4a91-fec0-08c6c9f209b1",
        "colab": {
          "base_uri": "https://localhost:8080/",
          "height": 391
        }
      },
      "outputs": [
        {
          "output_type": "execute_result",
          "data": {
            "text/plain": [
              "<seaborn.axisgrid.PairGrid at 0x7fd4ae92dbe0>"
            ]
          },
          "metadata": {},
          "execution_count": 83
        },
        {
          "output_type": "display_data",
          "data": {
            "text/plain": [
              "<Figure size 360x360 with 6 Axes>"
            ],
            "image/png": "[encoded data removed]"
          },
          "metadata": {
            "needs_background": "light"
          }
        }
      ],
      "source": [
        "sns.pairplot(df)"
      ]
    },
    {
      "cell_type": "markdown",
      "source": [
        "In this graph also the gdp value incresed as the years move on\n",
        "\n"
      ],
      "metadata": {
        "id": "AH2zWBnVYR0W"
      },
      "id": "AH2zWBnVYR0W"
    },
    {
      "cell_type": "markdown",
      "source": [
        "Perform unit root test on GDP data"
      ],
      "metadata": {
        "id": "qRRPZuNUYY1E"
      },
      "id": "qRRPZuNUYY1E"
    },
    {
      "cell_type": "code",
      "execution_count": 85,
      "id": "11fca966",
      "metadata": {
        "id": "11fca966",
        "outputId": "f18f37a4-c839-450d-e7e0-45f8ba0dbb32",
        "colab": {
          "base_uri": "https://localhost:8080/"
        }
      },
      "outputs": [
        {
          "output_type": "stream",
          "name": "stdout",
          "text": [
            "GDP Unit Root Test:\n",
            "ADF Statistic:  0.005331035268487498\n",
            "p-value:  0.9589707447258037\n",
            "\n",
            "IT Unit Root Test:\n",
            "ADF Statistic:  1.3408753217800435\n",
            "p-value:  0.9968282747181577\n"
          ]
        }
      ],
      "source": [
        "\n",
        "result = sts.adfuller(gdp_data[\"GDP\"])\n",
        "print(\"GDP Unit Root Test:\")\n",
        "print(\"ADF Statistic: \", result[0])\n",
        "print(\"p-value: \", result[1])\n",
        "\n",
        "# Perform unit root test on IT data\n",
        "result = sts.adfuller(it_us[\"GDP (current US$)\"])\n",
        "print(\"\\nIT Unit Root Test:\")\n",
        "print(\"ADF Statistic: \", result[0])\n",
        "print(\"p-value: \", result[1])"
      ]
    },
    {
      "cell_type": "markdown",
      "source": [
        "### Merge the two data sets on the 'Year' column"
      ],
      "metadata": {
        "id": "aLin_8syYcvU"
      },
      "id": "aLin_8syYcvU"
    },
    {
      "cell_type": "code",
      "execution_count": 86,
      "id": "5aa5ef15",
      "metadata": {
        "scrolled": false,
        "id": "5aa5ef15",
        "outputId": "c7e3c682-9532-44b2-d553-8bce66ed9ca0",
        "colab": {
          "base_uri": "https://localhost:8080/"
        }
      },
      "outputs": [
        {
          "output_type": "stream",
          "name": "stdout",
          "text": [
            "    Year          GDP  GDP (current US$)\n",
            "0   1960    542.38225       5.433000e+11\n",
            "1   1961    562.20975       5.633000e+11\n",
            "2   1962    603.92150       6.051000e+11\n",
            "3   1963    637.45150       6.386000e+11\n",
            "4   1964    684.46150       6.858000e+11\n",
            "..   ...          ...                ...\n",
            "56  2016  18715.04050       1.869510e+13\n",
            "57  2017  19519.42350       1.947730e+13\n",
            "58  2018  20580.22300       2.053310e+13\n",
            "59  2019  21427.68950       2.138100e+13\n",
            "60  2020  21539.68900       2.106050e+13\n",
            "\n",
            "[61 rows x 3 columns]\n"
          ]
        }
      ],
      "source": [
        "gdp_data = gdp_data.rename(columns={'year': 'Year'})\n",
        "\n",
        "# Merge the two data sets on the 'Year' column\n",
        "merged_data = pd.merge(gdp_data, it_us, on='Year')\n",
        "merged_data = merged_data.dropna(subset=['GDP'])\n",
        "\n",
        "print(merged_data)\n"
      ]
    },
    {
      "cell_type": "code",
      "execution_count": 87,
      "id": "e10c1895",
      "metadata": {
        "id": "e10c1895"
      },
      "outputs": [],
      "source": [
        "merged_data['GDP'] = merged_data['GDP'] / merged_data['GDP'].max()\n",
        "merged_data['GDP (current US$)'] = merged_data['GDP (current US$)'] / merged_data['GDP (current US$)'].max()"
      ]
    },
    {
      "cell_type": "markdown",
      "source": [
        "Plotting the Year wise It and GDP data set"
      ],
      "metadata": {
        "id": "Bpki9yBeZitZ"
      },
      "id": "Bpki9yBeZitZ"
    },
    {
      "cell_type": "code",
      "execution_count": 88,
      "id": "b5cea8c9",
      "metadata": {
        "id": "b5cea8c9",
        "outputId": "1f27b004-311e-4df5-a066-52c88f38d246",
        "colab": {
          "base_uri": "https://localhost:8080/",
          "height": 279
        }
      },
      "outputs": [
        {
          "output_type": "display_data",
          "data": {
            "text/plain": [
              "<Figure size 432x288 with 1 Axes>"
            ],
            "image/png": "[encoded data removed]"
          },
          "metadata": {
            "needs_background": "light"
          }
        }
      ],
      "source": [
        "plt.plot(merged_data['Year'], merged_data['GDP'], label='GDP',c='r',marker='x')\n",
        "plt.plot(merged_data['Year'], merged_data['GDP (current US$)'], label='It GDP',c='b')\n",
        "plt.xlabel('Year')\n",
        "plt.ylabel('Normalized GDP')\n",
        "plt.legend()\n",
        "plt.show()"
      ]
    },
    {
      "cell_type": "markdown",
      "source": [
        "Creating the co relation matrix "
      ],
      "metadata": {
        "id": "rpJeUN3uaLYb"
      },
      "id": "rpJeUN3uaLYb"
    },
    {
      "cell_type": "code",
      "execution_count": 89,
      "id": "7588ae88",
      "metadata": {
        "id": "7588ae88",
        "outputId": "1f35347e-6a01-457f-c2bb-cdc4d950329b",
        "colab": {
          "base_uri": "https://localhost:8080/"
        }
      },
      "outputs": [
        {
          "output_type": "stream",
          "name": "stdout",
          "text": [
            "                       Year       GDP  GDP (current US$)\n",
            "Year               1.000000  0.967703           0.968214\n",
            "GDP                0.967703  1.000000           0.999953\n",
            "GDP (current US$)  0.968214  0.999953           1.000000\n"
          ]
        }
      ],
      "source": [
        "corr_matrix = merged_data.corr()\n",
        "print(corr_matrix)"
      ]
    },
    {
      "cell_type": "markdown",
      "source": [
        "OLS Regression Results "
      ],
      "metadata": {
        "id": "lMwmUjPFaQjl"
      },
      "id": "lMwmUjPFaQjl"
    },
    {
      "cell_type": "code",
      "execution_count": 90,
      "id": "1bb489da",
      "metadata": {
        "scrolled": false,
        "id": "1bb489da",
        "outputId": "dea5f971-ac8b-4c9d-ca61-e24f399d761b",
        "colab": {
          "base_uri": "https://localhost:8080/"
        }
      },
      "outputs": [
        {
          "output_type": "stream",
          "name": "stdout",
          "text": [
            "                            OLS Regression Results                            \n",
            "==============================================================================\n",
            "Dep. Variable:                    GDP   R-squared:                       1.000\n",
            "Model:                            OLS   Adj. R-squared:                  1.000\n",
            "Method:                 Least Squares   F-statistic:                 6.236e+05\n",
            "Date:                Wed, 25 Jan 2023   Prob (F-statistic):          2.01e-120\n",
            "Time:                        15:01:57   Log-Likelihood:                 269.56\n",
            "No. Observations:                  61   AIC:                            -535.1\n",
            "Df Residuals:                      59   BIC:                            -530.9\n",
            "Df Model:                           1                                         \n",
            "Covariance Type:            nonrobust                                         \n",
            "==================================================================================\n",
            "                     coef    std err          t      P>|t|      [0.025      0.975]\n",
            "----------------------------------------------------------------------------------\n",
            "Intercept         -0.0006      0.001     -1.020      0.312      -0.002       0.001\n",
            "GDP_current_us     0.9949      0.001    789.694      0.000       0.992       0.997\n",
            "==============================================================================\n",
            "Omnibus:                      111.261   Durbin-Watson:                   0.809\n",
            "Prob(Omnibus):                  0.000   Jarque-Bera (JB):             4036.027\n",
            "Skew:                           5.604   Prob(JB):                         0.00\n",
            "Kurtosis:                      41.240   Cond. No.                         3.79\n",
            "==============================================================================\n",
            "\n",
            "Notes:\n",
            "[1] Standard Errors assume that the covariance matrix of the errors is correctly specified.\n"
          ]
        }
      ],
      "source": [
        "import statsmodels.formula.api as smf\n",
        "merged_data.rename(columns={'GDP (current US$)': 'GDP_current_us'}, inplace=True)\n",
        "model = smf.ols(formula='GDP ~ GDP_current_us ', data=merged_data).fit()\n",
        "print(model.summary())"
      ]
    },
    {
      "cell_type": "markdown",
      "source": [
        "ADF results are calculated "
      ],
      "metadata": {
        "id": "4_yROjzkaVmf"
      },
      "id": "4_yROjzkaVmf"
    },
    {
      "cell_type": "code",
      "execution_count": 91,
      "id": "ac1ff0d5",
      "metadata": {
        "id": "ac1ff0d5",
        "outputId": "68d996c6-3364-48a6-dbb6-7944e0a37ec7",
        "colab": {
          "base_uri": "https://localhost:8080/"
        }
      },
      "outputs": [
        {
          "output_type": "stream",
          "name": "stdout",
          "text": [
            "ADF Test Results:\n",
            "Test Statistic:  -0.09536009105005558\n",
            "p-value:  0.9498987297969004\n",
            "Critical Values:\n",
            "1% :  -3.5714715250448363\n",
            "5% :  -2.922629480573571\n",
            "10% :  -2.5993358475635153\n"
          ]
        }
      ],
      "source": [
        "from statsmodels.tsa.stattools import adfuller\n",
        "\n",
        "def check_stationarity(data):\n",
        "    adf_test = adfuller(data)\n",
        "    print(\"ADF Test Results:\")\n",
        "    print(\"Test Statistic: \", adf_test[0])\n",
        "    print(\"p-value: \", adf_test[1])\n",
        "    print(\"Critical Values:\")\n",
        "    for key, value in adf_test[4].items():\n",
        "        print(key, \": \", value)\n",
        "        \n",
        "check_stationarity(merged_data['GDP_current_us'])\n"
      ]
    },
    {
      "cell_type": "code",
      "execution_count": 92,
      "id": "b9dbfe56",
      "metadata": {
        "scrolled": true,
        "id": "b9dbfe56",
        "outputId": "6b1156d5-5610-4e0f-e2a2-a343a04c5f67",
        "colab": {
          "base_uri": "https://localhost:8080/"
        }
      },
      "outputs": [
        {
          "output_type": "stream",
          "name": "stdout",
          "text": [
            "ADF Test Results:\n",
            "Test Statistic:  0.7599345999895721\n",
            "p-value:  0.9909611223505609\n",
            "Critical Values:\n",
            "1% :  -3.5714715250448363\n",
            "5% :  -2.922629480573571\n",
            "10% :  -2.5993358475635153\n"
          ]
        }
      ],
      "source": [
        "gdp_params = merged_data['GDP']\n",
        "check_stationarity(gdp_params)\n"
      ]
    },
    {
      "cell_type": "markdown",
      "id": "2b25d8a2",
      "metadata": {
        "id": "2b25d8a2"
      },
      "source": [
        "performing cusum analysis"
      ]
    },
    {
      "cell_type": "code",
      "execution_count": 93,
      "id": "49809446",
      "metadata": {
        "id": "49809446"
      },
      "outputs": [],
      "source": [
        "\n",
        "\n",
        "def cusum(x):\n",
        "    s = np.cumsum(x)\n",
        "    cusum = np.zeros(s.shape)\n",
        "    cusum[0] = s[0]\n",
        "    for i in range(1, len(s)):\n",
        "        cusum[i] = s[i] - s[i-1]\n",
        "    return cusum\n",
        "\n",
        "# Example usage\n",
        "x = np.random.normal(size=100)\n",
        "cusum_x = cusum(x)\n"
      ]
    },
    {
      "cell_type": "markdown",
      "id": "d07c71f3",
      "metadata": {
        "id": "d07c71f3"
      },
      "source": [
        "## plotting "
      ]
    },
    {
      "cell_type": "code",
      "execution_count": 94,
      "id": "a5dba6eb",
      "metadata": {
        "id": "a5dba6eb",
        "outputId": "50d0db9f-c511-4ccd-e561-5260d5bc1c82",
        "colab": {
          "base_uri": "https://localhost:8080/",
          "height": 265
        }
      },
      "outputs": [
        {
          "output_type": "display_data",
          "data": {
            "text/plain": [
              "<Figure size 432x288 with 1 Axes>"
            ],
            "image/png": "[encoded data removed]"
          },
          "metadata": {
            "needs_background": "light"
          }
        }
      ],
      "source": [
        "# Perform CUSUM analysis on 'GDP' and 'GDP (current US$)' columns\n",
        "merged_data['cusum_GDP'] = cusum(merged_data['GDP'])\n",
        "merged_data['cusum_GDP_current_us'] = cusum(merged_data['GDP_current_us'])\n",
        "\n",
        "# Plot the results\n",
        "import matplotlib.pyplot as plt\n",
        "plt.plot(merged_data['Year'], merged_data['cusum_GDP'], label='GDP',c='r')\n",
        "plt.plot(merged_data['Year'], merged_data['cusum_GDP_current_us'], label='It GDP (current US$)')\n",
        "plt.legend()\n",
        "plt.show()\n"
      ]
    },
    {
      "cell_type": "markdown",
      "source": [
        "Granger Causality check"
      ],
      "metadata": {
        "id": "XOkr8N3kaiuN"
      },
      "id": "XOkr8N3kaiuN"
    },
    {
      "cell_type": "code",
      "execution_count": 95,
      "id": "94b0f806",
      "metadata": {
        "id": "94b0f806",
        "outputId": "26d5820d-a625-443a-b779-137d422834d5",
        "colab": {
          "base_uri": "https://localhost:8080/"
        }
      },
      "outputs": [
        {
          "output_type": "stream",
          "name": "stdout",
          "text": [
            "\n",
            "Granger Causality\n",
            "number of lags (no zero) 1\n",
            "ssr based F test:         F=1.3526  , p=0.2497  , df_denom=57, df_num=1\n",
            "ssr based chi2 test:   chi2=1.4238  , p=0.2328  , df=1\n",
            "likelihood ratio test: chi2=1.4072  , p=0.2355  , df=1\n",
            "parameter F test:         F=1.3526  , p=0.2497  , df_denom=57, df_num=1\n",
            "\n",
            "Granger Causality\n",
            "number of lags (no zero) 2\n",
            "ssr based F test:         F=4.8206  , p=0.0118  , df_denom=54, df_num=2\n",
            "ssr based chi2 test:   chi2=10.5339 , p=0.0052  , df=2\n",
            "likelihood ratio test: chi2=9.6923  , p=0.0079  , df=2\n",
            "parameter F test:         F=4.8206  , p=0.0118  , df_denom=54, df_num=2\n",
            "{1: ({'ssr_ftest': (1.3526247271294691, 0.24966569679838785, 57.0, 1), 'ssr_chi2test': (1.4238155022415464, 0.23277640966007263, 1), 'lrtest': (1.407184341385232, 0.23552437148582717, 1), 'params_ftest': (1.3526247271296246, 0.24966569679835665, 57.0, 1.0)}, [<statsmodels.regression.linear_model.RegressionResultsWrapper object at 0x7fd4a6665d60>, <statsmodels.regression.linear_model.RegressionResultsWrapper object at 0x7fd4aeb78b20>, array([[0., 1., 0.]])]), 2: ({'ssr_ftest': (4.820582037425637, 0.011849565200262674, 54.0, 2), 'ssr_chi2test': (10.533864452152317, 0.005159414236059056, 2), 'lrtest': (9.69231044955825, 0.007858533836170835, 2), 'params_ftest': (4.8205820374257895, 0.011849565200261125, 54.0, 2.0)}, [<statsmodels.regression.linear_model.RegressionResultsWrapper object at 0x7fd4af0a4be0>, <statsmodels.regression.linear_model.RegressionResultsWrapper object at 0x7fd4af0a4df0>, array([[0., 0., 1., 0., 0.],\n",
            "       [0., 0., 0., 1., 0.]])])}\n"
          ]
        }
      ],
      "source": [
        "from statsmodels.tsa.stattools import grangercausalitytests\n",
        "\n",
        "granger_test = grangercausalitytests(merged_data[['GDP', 'GDP_current_us']], maxlag=2)\n",
        "\n",
        "print(granger_test)"
      ]
    },
    {
      "cell_type": "code",
      "execution_count": 96,
      "id": "a101fe47",
      "metadata": {
        "id": "a101fe47",
        "outputId": "b532d42c-88e4-4d2b-f813-353f6428f212",
        "colab": {
          "base_uri": "https://localhost:8080/"
        }
      },
      "outputs": [
        {
          "output_type": "stream",
          "name": "stdout",
          "text": [
            "<statsmodels.tsa.vector_ar.hypothesis_test_results.CausalityTestResults object. H_0: GDP_current_us does not Granger-cause GDP: fail to reject at 5% significance level. Test statistic: 1.353, critical value: 3.841>, p-value: 0.245>\n"
          ]
        }
      ],
      "source": [
        "from statsmodels.tsa.api import VAR\n",
        "\n",
        "# Estimate VAR model\n",
        "model = VAR(merged_data[['GDP', 'GDP_current_us']])\n",
        "results = model.fit()\n",
        "\n",
        "# Perform Toda-Yamamoto causality test\n",
        "causality = results.test_causality('GDP', 'GDP_current_us', kind='wald')\n",
        "\n",
        "# Print results\n",
        "print(causality)\n"
      ]
    },
    {
      "cell_type": "markdown",
      "source": [
        "Over time, the growth in GDP causes inflation—inflation, if left unchecked, runs the risk of morphing into hyperinflation. Most economists today agree that a small amount of inflation, about 1% to 2% a year, is more beneficial than detrimental to the economy.But the heavy rise of the IT sector in the US also increased the employment rate but now the heavy rise in GDP caused the inflation"
      ],
      "metadata": {
        "id": "iSE9yqQvaokE"
      },
      "id": "iSE9yqQvaokE"
    },
    {
      "cell_type": "code",
      "execution_count": 96,
      "id": "9262d905",
      "metadata": {
        "id": "9262d905"
      },
      "outputs": [],
      "source": []
    }
  ],
  "metadata": {
    "kernelspec": {
      "display_name": "Python 3 (ipykernel)",
      "language": "python",
      "name": "python3"
    },
    "language_info": {
      "codemirror_mode": {
        "name": "ipython",
        "version": 3
      },
      "file_extension": ".py",
      "mimetype": "text/x-python",
      "name": "python",
      "nbconvert_exporter": "python",
      "pygments_lexer": "ipython3",
      "version": "3.9.13"
    },
    "colab": {
      "provenance": []
    }
  },
  "nbformat": 4,
  "nbformat_minor": 5
}